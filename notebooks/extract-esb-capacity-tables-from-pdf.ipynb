{
 "cells": [
  {
   "cell_type": "code",
   "execution_count": null,
   "metadata": {},
   "outputs": [],
   "source": [
    "import camelot\n",
    "import pandas as pd\n",
    "import numpy as np"
   ]
  },
  {
   "cell_type": "markdown",
   "metadata": {},
   "source": [
    "# Load Pdf into tables\n",
    "\n",
    "38kV & 110kV Station Special Load Readings Report source: https://www.esbnetworks.ie/docs/default-source/default-document-library/doc-080620-ftu---slr-2018-19.pdf?sfvrsn=ca8400f0_0"
   ]
  },
  {
   "cell_type": "markdown",
   "metadata": {},
   "source": [
    "<span style=\"color:red\"> __Warning approx 2 min runtime!__ </span>"
   ]
  },
  {
   "cell_type": "code",
   "execution_count": null,
   "metadata": {},
   "outputs": [],
   "source": [
    "tables = camelot.read_pdf(\n",
    "    \"doc-080620-ftu---slr-2018-19.pdf\",\n",
    "    pages='8-70',\n",
    "    flavor='stream',\n",
    ")"
   ]
  },
  {
   "cell_type": "markdown",
   "metadata": {},
   "source": [
    "#  Convert to a Pandas DataFrame"
   ]
  },
  {
   "cell_type": "code",
   "execution_count": null,
   "metadata": {},
   "outputs": [],
   "source": [
    "column_names = {\n",
    "    0: \"station_name\",\n",
    "    1: \"trafo\",\n",
    "    2: \"capacity_feeder_customer\",\n",
    "    3: \"cub_no\",\n",
    "    4: \"installed_capacity\",\n",
    "    5: \"planned_capacity\",\n",
    "    6: \"mec\",\n",
    "    7: \"winter_valley_18_19\",\n",
    "    8: \"winter_peak_18_19\",\n",
    "    9: \"summer_valley_18_19\",\n",
    "    10: \"summer_peak_18_19\",\n",
    "    11: \"winter_valley_16_17\",\n",
    "    12: \"winter_peak_16_17\",\n",
    "    13: \"summer_valley_16_17\",\n",
    "    14: \"summer_peak_16_17\",\n",
    "}"
   ]
  },
  {
   "cell_type": "code",
   "execution_count": null,
   "metadata": {},
   "outputs": [],
   "source": [
    "tables_dfs = [\n",
    "    tables[i].df\n",
    "    for i in range(tables.n)\n",
    "] # the first 9 rows are headers"
   ]
  },
  {
   "cell_type": "code",
   "execution_count": null,
   "metadata": {},
   "outputs": [],
   "source": [
    "electricitypeaks_raw = pd.concat(tables_dfs)"
   ]
  },
  {
   "cell_type": "code",
   "execution_count": null,
   "metadata": {},
   "outputs": [],
   "source": [
    "electricitypeaks_raw"
   ]
  },
  {
   "cell_type": "markdown",
   "metadata": {},
   "source": [
    "# Extract useful rows"
   ]
  },
  {
   "cell_type": "code",
   "execution_count": null,
   "metadata": {},
   "outputs": [],
   "source": [
    "column_names = {\n",
    "    0: \"station_name\",\n",
    "    1: \"trafo\",\n",
    "    2: \"capacity_feeder_customer\",\n",
    "    3: \"cub_no\",\n",
    "    4: \"installed_capacity\",\n",
    "    5: \"planned_capacity\",\n",
    "    6: \"mec\",\n",
    "    7: \"winter_valley_18_19\",\n",
    "    8: \"winter_peak_18_19\",\n",
    "    9: \"summer_valley_18_19\",\n",
    "    10: \"summer_peak_18_19\",\n",
    "    11: \"winter_valley_16_17\",\n",
    "    12: \"winter_peak_16_17\",\n",
    "    13: \"summer_valley_16_17\",\n",
    "    14: \"summer_peak_16_17\",\n",
    "}"
   ]
  },
  {
   "cell_type": "code",
   "execution_count": null,
   "metadata": {},
   "outputs": [],
   "source": [
    "electricitypeaks_columns_renamed = electricitypeaks_raw.rename(columns=column_names)"
   ]
  },
  {
   "cell_type": "code",
   "execution_count": null,
   "metadata": {},
   "outputs": [],
   "source": [
    "electricitypeaks_headerrows_removed = electricitypeaks_columns_renamed.reset_index().query(\"`index` >= 9\")"
   ]
  },
  {
   "cell_type": "code",
   "execution_count": null,
   "metadata": {},
   "outputs": [],
   "source": [
    "electricitypeaks_toclean = electricitypeaks_headerrows_removed"
   ]
  },
  {
   "cell_type": "code",
   "execution_count": null,
   "metadata": {},
   "outputs": [],
   "source": [
    "electricitypeaks_toclean.iloc[15:]"
   ]
  },
  {
   "cell_type": "markdown",
   "metadata": {},
   "source": [
    "# Extract and clean useful columns"
   ]
  },
  {
   "cell_type": "code",
   "execution_count": null,
   "metadata": {},
   "outputs": [],
   "source": [
    "electricity_peaks_clean = pd.DataFrame()"
   ]
  },
  {
   "cell_type": "code",
   "execution_count": null,
   "metadata": {},
   "outputs": [],
   "source": [
    "electricity_peaks_clean[\"station_name\"] = (\n",
    "    electricitypeaks_toclean[\"station_name\"].replace({\"\": np.nan}).fillna(method=\"ffill\")\n",
    ")"
   ]
  },
  {
   "cell_type": "code",
   "execution_count": null,
   "metadata": {},
   "outputs": [],
   "source": [
    "remaining_useful_columns = [\n",
    "    \"installed_capacity\", \n",
    "    \"planned_capacity\",\n",
    "    'winter_valley_18_19',\n",
    "    'winter_peak_18_19',\n",
    "    'summer_valley_18_19',\n",
    "    'summer_peak_18_19',\n",
    "    'winter_valley_16_17',\n",
    "    'winter_peak_16_17',\n",
    "    'summer_valley_16_17',\n",
    "    'summer_peak_16_17'\n",
    "]"
   ]
  },
  {
   "cell_type": "code",
   "execution_count": null,
   "metadata": {},
   "outputs": [],
   "source": [
    "electricity_peaks_clean[remaining_useful_columns] = electricitypeaks_toclean.loc[:, remaining_useful_columns]"
   ]
  },
  {
   "cell_type": "markdown",
   "metadata": {},
   "source": [
    "# (Optional) Download converted pdf"
   ]
  },
  {
   "cell_type": "code",
   "execution_count": null,
   "metadata": {},
   "outputs": [],
   "source": [
    "from IPython.display import FileLink"
   ]
  },
  {
   "cell_type": "code",
   "execution_count": null,
   "metadata": {},
   "outputs": [],
   "source": [
    "output_filepath = \"esb_peakloads_2016_to_19.csv\""
   ]
  },
  {
   "cell_type": "code",
   "execution_count": null,
   "metadata": {},
   "outputs": [],
   "source": [
    "electricity_peaks_clean.to_csv(output_filepath)"
   ]
  },
  {
   "cell_type": "code",
   "execution_count": null,
   "metadata": {},
   "outputs": [],
   "source": [
    "display(f\"Click to download the default-linked data\")\n",
    "FileLink(output_filepath)"
   ]
  }
 ],
 "metadata": {
  "hide_input": false,
  "kernelspec": {
   "display_name": "Python 3",
   "language": "python",
   "name": "python3"
  },
  "language_info": {
   "codemirror_mode": {
    "name": "ipython",
    "version": 3
   },
   "file_extension": ".py",
   "mimetype": "text/x-python",
   "name": "python",
   "nbconvert_exporter": "python",
   "pygments_lexer": "ipython3",
   "version": "3.9.0-final"
  }
 },
 "nbformat": 4,
 "nbformat_minor": 4
}
